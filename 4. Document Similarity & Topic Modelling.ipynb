{
 "cells": [
  {
   "cell_type": "markdown",
   "metadata": {},
   "source": [
    "# Document Similarity & Topic Modelling"
   ]
  },
  {
   "cell_type": "markdown",
   "metadata": {},
   "source": [
    "## Part 1 - Document Similarity\n"
   ]
  },
  {
   "cell_type": "code",
   "execution_count": 1,
   "metadata": {},
   "outputs": [],
   "source": [
    "#import required libraries \n",
    "import numpy as np\n",
    "import nltk\n",
    "from nltk.corpus import wordnet as wn\n",
    "import pandas as pd\n",
    "from itertools import product\n",
    "\n",
    "\n",
    "def convert_tag(tag):\n",
    "    \"\"\"Convert the tag given by nltk.pos_tag to the tag used by wordnet.synsets\"\"\"\n",
    "    \n",
    "    tag_dict = {'N': 'n', 'J': 'a', 'R': 'r', 'V': 'v'}\n",
    "    try:\n",
    "        return tag_dict[tag[0]]\n",
    "    except KeyError:\n",
    "        return None\n",
    "\n",
    "\n",
    "def doc_to_synsets(doc):\n",
    "    \"\"\"\n",
    "    Returns a list of synsets in document.\n",
    "\n",
    "    Tokenizes and tags the words in the document doc.\n",
    "    Then finds the first synset for each word/tag combination.\n",
    "    If a synset is not found for that combination it is skipped.\n",
    "\n",
    "    Args:\n",
    "        doc: string to be converted\n",
    "\n",
    "    Returns:\n",
    "        list of synsets\n",
    "\n",
    "    Example:\n",
    "        doc_to_synsets('Fish are nvqjp friends.')\n",
    "        Out: [Synset('fish.n.01'), Synset('be.v.01'), Synset('friend.n.01')]\n",
    "    \"\"\"\n",
    "    \n",
    "\n",
    "    \n",
    "    tokene = nltk.word_tokenize(doc)\n",
    "    word_tokene = nltk.pos_tag(tokens=tokene)\n",
    "    synsets_list = []\n",
    "    for token in word_tokene:\n",
    "        synsets = wn.synsets(token[0],convert_tag(token[1]))\n",
    "        if len(synsets) != 0:\n",
    "            synsets_list.append(synsets[0])\n",
    "    \n",
    "    return synsets_list\n",
    "\n",
    "\n",
    "def similarity_score(s1, s2):\n",
    "    \"\"\"\n",
    "    Calculate the normalized similarity score of s1 onto s2\n",
    "\n",
    "    For each synset in s1, finds the synset in s2 with the largest similarity value.\n",
    "    Sum of all of the largest similarity values and normalize this value by dividing it by the\n",
    "    number of largest similarity values found.\n",
    "\n",
    "    Args:\n",
    "        s1, s2: list of synsets from doc_to_synsets\n",
    "\n",
    "    Returns:\n",
    "        normalized similarity score of s1 onto s2\n",
    "\n",
    "    Example:\n",
    "        synsets1 = doc_to_synsets('I like cats')\n",
    "        synsets2 = doc_to_synsets('I like dogs')\n",
    "        similarity_score(synsets1, synsets2)\n",
    "        Out: 0.73333333333333339\n",
    "    \"\"\"\n",
    "    \n",
    "    \n",
    "    \n",
    "    sin1_list = []\n",
    "    max_list = []\n",
    "    for sin1 in s1: \n",
    "        for sin2 in s2:\n",
    "            dist = wn.path_similarity(sin1,sin2)\n",
    "            if dist:\n",
    "                sin1_list.append(dist)\n",
    "        if len(sin1_list) != 0:\n",
    "            max_list.append(max(sin1_list))\n",
    "        sin1_list.clear()\n",
    "    return sum(max_list)/len(max_list)\n",
    "\n",
    "\n",
    "def document_path_similarity(doc1, doc2):\n",
    "    \"\"\"Finds the symmetrical similarity between doc1 and doc2\"\"\"\n",
    "\n",
    "    synsets1 = doc_to_synsets(doc1)\n",
    "    synsets2 = doc_to_synsets(doc2)\n",
    "\n",
    "    return (similarity_score(synsets1, synsets2) + similarity_score(synsets2, synsets1)) / 2"
   ]
  },
  {
   "cell_type": "code",
   "execution_count": 2,
   "metadata": {},
   "outputs": [
    {
     "data": {
      "text/plain": [
       "0.49603174603174605"
      ]
     },
     "execution_count": 2,
     "metadata": {},
     "output_type": "execute_result"
    }
   ],
   "source": [
    "\n",
    "doc1 = 'This is a function to test document_path_similarity.'\n",
    "doc2 = 'Use this function to see if your code in doc_to_synsets and similarity_score is correct!'\n",
    "similarity_score(doc_to_synsets(doc2),doc_to_synsets(doc1))"
   ]
  },
  {
   "cell_type": "code",
   "execution_count": 3,
   "metadata": {},
   "outputs": [
    {
     "data": {
      "text/html": [
       "<div>\n",
       "<style scoped>\n",
       "    .dataframe tbody tr th:only-of-type {\n",
       "        vertical-align: middle;\n",
       "    }\n",
       "\n",
       "    .dataframe tbody tr th {\n",
       "        vertical-align: top;\n",
       "    }\n",
       "\n",
       "    .dataframe thead th {\n",
       "        text-align: right;\n",
       "    }\n",
       "</style>\n",
       "<table border=\"1\" class=\"dataframe\">\n",
       "  <thead>\n",
       "    <tr style=\"text-align: right;\">\n",
       "      <th></th>\n",
       "      <th>Quality</th>\n",
       "      <th>D1</th>\n",
       "      <th>D2</th>\n",
       "    </tr>\n",
       "  </thead>\n",
       "  <tbody>\n",
       "    <tr>\n",
       "      <td>0</td>\n",
       "      <td>1</td>\n",
       "      <td>Ms Stewart, the chief executive, was not expec...</td>\n",
       "      <td>Ms Stewart, 61, its chief executive officer an...</td>\n",
       "    </tr>\n",
       "    <tr>\n",
       "      <td>1</td>\n",
       "      <td>1</td>\n",
       "      <td>After more than two years' detention under the...</td>\n",
       "      <td>After more than two years in detention by the ...</td>\n",
       "    </tr>\n",
       "    <tr>\n",
       "      <td>2</td>\n",
       "      <td>1</td>\n",
       "      <td>\"It still remains to be seen whether the reven...</td>\n",
       "      <td>\"It remains to be seen whether the revenue rec...</td>\n",
       "    </tr>\n",
       "    <tr>\n",
       "      <td>3</td>\n",
       "      <td>0</td>\n",
       "      <td>And it's going to be a wild ride,\" said Allan ...</td>\n",
       "      <td>Now the rest is just mechanical,\" said Allan H...</td>\n",
       "    </tr>\n",
       "    <tr>\n",
       "      <td>4</td>\n",
       "      <td>1</td>\n",
       "      <td>The cards are issued by Mexico's consulates to...</td>\n",
       "      <td>The card is issued by Mexico's consulates to i...</td>\n",
       "    </tr>\n",
       "    <tr>\n",
       "      <td>5</td>\n",
       "      <td>1</td>\n",
       "      <td>Their difference was over whether the court sh...</td>\n",
       "      <td>Their difference was over whether the court sh...</td>\n",
       "    </tr>\n",
       "    <tr>\n",
       "      <td>6</td>\n",
       "      <td>1</td>\n",
       "      <td>The only announced Republican to replace Davis...</td>\n",
       "      <td>So far the only declared major party candidate...</td>\n",
       "    </tr>\n",
       "    <tr>\n",
       "      <td>7</td>\n",
       "      <td>1</td>\n",
       "      <td>Druce will face murder charges, Conte said.</td>\n",
       "      <td>Conte said Druce will be charged with murder.\\n</td>\n",
       "    </tr>\n",
       "    <tr>\n",
       "      <td>8</td>\n",
       "      <td>0</td>\n",
       "      <td>\"It's a major victory for Maine, and it's a ma...</td>\n",
       "      <td>The Maine program could be a model for other s...</td>\n",
       "    </tr>\n",
       "    <tr>\n",
       "      <td>9</td>\n",
       "      <td>1</td>\n",
       "      <td>Microsoft said Friday that it is halting devel...</td>\n",
       "      <td>Microsoft will stop developing versions of its...</td>\n",
       "    </tr>\n",
       "    <tr>\n",
       "      <td>10</td>\n",
       "      <td>0</td>\n",
       "      <td>New legit download service launches with PC us...</td>\n",
       "      <td>BuyMusic is the first subscription-free paid d...</td>\n",
       "    </tr>\n",
       "    <tr>\n",
       "      <td>11</td>\n",
       "      <td>0</td>\n",
       "      <td>All patients developed some or all of the symp...</td>\n",
       "      <td>Symptoms of the E. coli infection include bloo...</td>\n",
       "    </tr>\n",
       "    <tr>\n",
       "      <td>12</td>\n",
       "      <td>0</td>\n",
       "      <td>Nine years ago, they were married by a justice...</td>\n",
       "      <td>His wife, married to Moore by a justice of the...</td>\n",
       "    </tr>\n",
       "    <tr>\n",
       "      <td>13</td>\n",
       "      <td>1</td>\n",
       "      <td>\"Indeed, Iran should be put on notice that eff...</td>\n",
       "      <td>\"Iran should be on notice that attempts to rem...</td>\n",
       "    </tr>\n",
       "    <tr>\n",
       "      <td>14</td>\n",
       "      <td>0</td>\n",
       "      <td>The euro tagged another record high against th...</td>\n",
       "      <td>The euro ros further into record territory on ...</td>\n",
       "    </tr>\n",
       "    <tr>\n",
       "      <td>15</td>\n",
       "      <td>0</td>\n",
       "      <td>US Special Forces troops are training Colombia...</td>\n",
       "      <td>U.S. Special Forces troops are training Colomb...</td>\n",
       "    </tr>\n",
       "    <tr>\n",
       "      <td>16</td>\n",
       "      <td>0</td>\n",
       "      <td>The constitutionality of outlawing partial bir...</td>\n",
       "      <td>Defenders of the partial birth abortion ban do...</td>\n",
       "    </tr>\n",
       "    <tr>\n",
       "      <td>17</td>\n",
       "      <td>0</td>\n",
       "      <td>Sun was the lone major vendor to see its shipm...</td>\n",
       "      <td>IBM (NYSE: IBM)  was the fastest-growing vendo...</td>\n",
       "    </tr>\n",
       "    <tr>\n",
       "      <td>18</td>\n",
       "      <td>0</td>\n",
       "      <td>On Monday the Palestinian Prime Minister, Mahm...</td>\n",
       "      <td>Palestinian Prime Minister Mahmoud Abbas must ...</td>\n",
       "    </tr>\n",
       "    <tr>\n",
       "      <td>19</td>\n",
       "      <td>1</td>\n",
       "      <td>The NASD also alleges Young flew multiple time...</td>\n",
       "      <td>The NASD alleges that the analyst flew multipl...</td>\n",
       "    </tr>\n",
       "  </tbody>\n",
       "</table>\n",
       "</div>"
      ],
      "text/plain": [
       "    Quality                                                 D1  \\\n",
       "0         1  Ms Stewart, the chief executive, was not expec...   \n",
       "1         1  After more than two years' detention under the...   \n",
       "2         1  \"It still remains to be seen whether the reven...   \n",
       "3         0  And it's going to be a wild ride,\" said Allan ...   \n",
       "4         1  The cards are issued by Mexico's consulates to...   \n",
       "5         1  Their difference was over whether the court sh...   \n",
       "6         1  The only announced Republican to replace Davis...   \n",
       "7         1        Druce will face murder charges, Conte said.   \n",
       "8         0  \"It's a major victory for Maine, and it's a ma...   \n",
       "9         1  Microsoft said Friday that it is halting devel...   \n",
       "10        0  New legit download service launches with PC us...   \n",
       "11        0  All patients developed some or all of the symp...   \n",
       "12        0  Nine years ago, they were married by a justice...   \n",
       "13        1  \"Indeed, Iran should be put on notice that eff...   \n",
       "14        0  The euro tagged another record high against th...   \n",
       "15        0  US Special Forces troops are training Colombia...   \n",
       "16        0  The constitutionality of outlawing partial bir...   \n",
       "17        0  Sun was the lone major vendor to see its shipm...   \n",
       "18        0  On Monday the Palestinian Prime Minister, Mahm...   \n",
       "19        1  The NASD also alleges Young flew multiple time...   \n",
       "\n",
       "                                                   D2  \n",
       "0   Ms Stewart, 61, its chief executive officer an...  \n",
       "1   After more than two years in detention by the ...  \n",
       "2   \"It remains to be seen whether the revenue rec...  \n",
       "3   Now the rest is just mechanical,\" said Allan H...  \n",
       "4   The card is issued by Mexico's consulates to i...  \n",
       "5   Their difference was over whether the court sh...  \n",
       "6   So far the only declared major party candidate...  \n",
       "7     Conte said Druce will be charged with murder.\\n  \n",
       "8   The Maine program could be a model for other s...  \n",
       "9   Microsoft will stop developing versions of its...  \n",
       "10  BuyMusic is the first subscription-free paid d...  \n",
       "11  Symptoms of the E. coli infection include bloo...  \n",
       "12  His wife, married to Moore by a justice of the...  \n",
       "13  \"Iran should be on notice that attempts to rem...  \n",
       "14  The euro ros further into record territory on ...  \n",
       "15  U.S. Special Forces troops are training Colomb...  \n",
       "16  Defenders of the partial birth abortion ban do...  \n",
       "17  IBM (NYSE: IBM)  was the fastest-growing vendo...  \n",
       "18  Palestinian Prime Minister Mahmoud Abbas must ...  \n",
       "19  The NASD alleges that the analyst flew multipl...  "
      ]
     },
     "execution_count": 3,
     "metadata": {},
     "output_type": "execute_result"
    }
   ],
   "source": [
    "# Use this dataframe for questions most_similar_docs and label_accuracy\n",
    "paraphrases = pd.read_csv(r'C:\\Users\\sharm.LAPTOP-118C54MT\\OneDrive - York University\\Coursera\\Course_4\\Assignment_4\\paraphrases.csv')\n",
    "paraphrases"
   ]
  },
  {
   "cell_type": "code",
   "execution_count": 4,
   "metadata": {},
   "outputs": [
    {
     "data": {
      "text/plain": [
       "('\"Indeed, Iran should be put on notice that efforts to try to remake Iraq in their image will be aggressively put down,\" he said.',\n",
       " '\"Iran should be on notice that attempts to remake Iraq in Iran\\'s image will be aggressively put down,\" he said.\\n')"
      ]
     },
     "execution_count": 4,
     "metadata": {},
     "output_type": "execute_result"
    }
   ],
   "source": [
    "#find the pair of documents in paraphrases which has the mximum similarity score \n",
    "df = paraphrases\n",
    "df['similarity'] = [document_path_similarity(doc1, doc2) for doc1, doc2 in zip(paraphrases['D1'],paraphrases['D2'])] \n",
    "df.iloc[df['similarity'].idxmax(),1],df.iloc[df['similarity'].idxmax(),2]"
   ]
  },
  {
   "cell_type": "code",
   "execution_count": 5,
   "metadata": {},
   "outputs": [
    {
     "data": {
      "text/plain": [
       "0.8"
      ]
     },
     "execution_count": 5,
     "metadata": {},
     "output_type": "execute_result"
    }
   ],
   "source": [
    "#compute the similarity score for each pair of documents in paraphrase. Now classify similarity score with\n",
    "#a calssification rule that if the accurayc score is greater than 0.75 classify it as 1 else 0.\n",
    "#evaluate accuracy of classifer using the sklearn accuracy_score method.\n",
    "from sklearn.metrics import accuracy_score\n",
    "df = paraphrases\n",
    "df['predicted'] = [document_path_similarity(doc1, doc2) for doc1, doc2 in zip(paraphrases['D1'],paraphrases['D2'])]\n",
    "df['predicted'] = np.where((df.predicted > 0.75),1,0)\n",
    "accuracy_score(df['Quality'],df['predicted'])# Your Answer Here"
   ]
  },
  {
   "cell_type": "markdown",
   "metadata": {},
   "source": [
    "## Part 2 - Topic Modelling\n",
    "\n"
   ]
  },
  {
   "cell_type": "code",
   "execution_count": 6,
   "metadata": {},
   "outputs": [],
   "source": [
    "import pickle\n",
    "import gensim\n",
    "from sklearn.feature_extraction.text import CountVectorizer\n",
    "\n",
    "# Load the list of documents\n",
    "with open(r'C:\\Users\\sharm.LAPTOP-118C54MT\\OneDrive - York University\\Coursera\\Course_4\\Assignment_4\\newsgroups', 'rb') as f:\n",
    "    newsgroup_data = pickle.load(f)\n",
    "\n",
    "# Use CountVectorizor to find three letter tokens, remove stop_words, \n",
    "# remove tokens that don't appear in at least 20 documents,\n",
    "# remove tokens that appear in more than 20% of the documents\n",
    "vect = CountVectorizer(min_df=20, max_df=0.2, stop_words='english', \n",
    "                       token_pattern='(?u)\\\\b\\\\w\\\\w\\\\w+\\\\b')\n",
    "# Fit and transform\n",
    "X = vect.fit_transform(newsgroup_data)\n",
    "\n",
    "# Convert sparse matrix to gensim corpus.\n",
    "corpus = gensim.matutils.Sparse2Corpus(X, documents_columns=False)\n",
    "\n",
    "# Mapping from word IDs to words (To be used in LdaModel's id2word parameter)\n",
    "id_map = dict((v, k) for k, v in vect.vocabulary_.items())\n"
   ]
  },
  {
   "cell_type": "code",
   "execution_count": 7,
   "metadata": {},
   "outputs": [
    {
     "data": {
      "text/plain": [
       "[(0,\n",
       "  '0.056*\"edu\" + 0.043*\"com\" + 0.033*\"thanks\" + 0.022*\"mail\" + 0.021*\"know\" + 0.020*\"does\" + 0.014*\"info\" + 0.012*\"monitor\" + 0.010*\"looking\" + 0.010*\"don\"'),\n",
       " (1,\n",
       "  '0.024*\"ground\" + 0.018*\"current\" + 0.018*\"just\" + 0.013*\"want\" + 0.013*\"use\" + 0.011*\"using\" + 0.011*\"used\" + 0.010*\"power\" + 0.010*\"speed\" + 0.010*\"output\"'),\n",
       " (2,\n",
       "  '0.061*\"drive\" + 0.042*\"disk\" + 0.033*\"scsi\" + 0.030*\"drives\" + 0.028*\"hard\" + 0.028*\"controller\" + 0.027*\"card\" + 0.020*\"rom\" + 0.018*\"floppy\" + 0.017*\"bus\"'),\n",
       " (3,\n",
       "  '0.023*\"time\" + 0.015*\"atheism\" + 0.014*\"list\" + 0.013*\"left\" + 0.012*\"alt\" + 0.012*\"faq\" + 0.012*\"probably\" + 0.011*\"know\" + 0.011*\"send\" + 0.010*\"months\"'),\n",
       " (4,\n",
       "  '0.025*\"car\" + 0.016*\"just\" + 0.014*\"don\" + 0.014*\"bike\" + 0.012*\"good\" + 0.011*\"new\" + 0.011*\"think\" + 0.010*\"year\" + 0.010*\"cars\" + 0.010*\"time\"'),\n",
       " (5,\n",
       "  '0.030*\"game\" + 0.027*\"team\" + 0.023*\"year\" + 0.017*\"games\" + 0.016*\"play\" + 0.012*\"season\" + 0.012*\"players\" + 0.012*\"win\" + 0.011*\"hockey\" + 0.011*\"good\"'),\n",
       " (6,\n",
       "  '0.017*\"information\" + 0.014*\"help\" + 0.014*\"medical\" + 0.012*\"new\" + 0.012*\"use\" + 0.012*\"000\" + 0.012*\"research\" + 0.011*\"university\" + 0.010*\"number\" + 0.010*\"program\"'),\n",
       " (7,\n",
       "  '0.022*\"don\" + 0.021*\"people\" + 0.018*\"think\" + 0.017*\"just\" + 0.012*\"say\" + 0.011*\"know\" + 0.011*\"does\" + 0.011*\"good\" + 0.010*\"god\" + 0.009*\"way\"'),\n",
       " (8,\n",
       "  '0.034*\"use\" + 0.023*\"apple\" + 0.020*\"power\" + 0.016*\"time\" + 0.015*\"data\" + 0.015*\"software\" + 0.012*\"pin\" + 0.012*\"memory\" + 0.012*\"simms\" + 0.011*\"port\"'),\n",
       " (9,\n",
       "  '0.068*\"space\" + 0.036*\"nasa\" + 0.021*\"science\" + 0.020*\"edu\" + 0.019*\"data\" + 0.017*\"shuttle\" + 0.015*\"launch\" + 0.015*\"available\" + 0.014*\"center\" + 0.014*\"sci\"')]"
      ]
     },
     "execution_count": 7,
     "metadata": {},
     "output_type": "execute_result"
    }
   ],
   "source": [
    "# Use the gensim.models.ldamodel.LdaModel constructor to estimate \n",
    "# LDA model parameters on the corpus, and save to the variable `ldamodel`\n",
    "\n",
    "ldamodel = gensim.models.ldamodel.LdaModel(corpus=corpus, id2word=id_map, num_topics=10, passes=25, \\\n",
    "                                           random_state=34)\n",
    "#list of the 10 topics and the most significant 10 words in each topic.\n",
    "ldamodel.print_topics(num_topics=10, num_words=10)"
   ]
  },
  {
   "cell_type": "code",
   "execution_count": 8,
   "metadata": {},
   "outputs": [],
   "source": [
    "#for the new doc find the topic distribution\n",
    "new_doc = [\"\\n\\nIt's my understanding that the freezing will start to occur because \\\n",
    "of the\\ngrowing distance of Pluto and Charon from the Sun, due to it's\\nelliptical orbit. \\\n",
    "It is not due to shadowing effects. \\n\\n\\nPluto can shadow Charon, and vice-versa.\\n\\nGeorge \\\n",
    "Krumins\\n-- \"]"
   ]
  },
  {
   "cell_type": "code",
   "execution_count": 9,
   "metadata": {},
   "outputs": [
    {
     "data": {
      "text/plain": [
       "[(0, 0.020003108),\n",
       " (1, 0.020003324),\n",
       " (2, 0.020001281),\n",
       " (3, 0.4967489),\n",
       " (4, 0.020004038),\n",
       " (5, 0.020004129),\n",
       " (6, 0.020002972),\n",
       " (7, 0.020002645),\n",
       " (8, 0.020003129),\n",
       " (9, 0.3432265)]"
      ]
     },
     "execution_count": 9,
     "metadata": {},
     "output_type": "execute_result"
    }
   ],
   "source": [
    "#vectorize the document and transform it. also use sparse2coupus to convert the sparse matrix to gensim corpus\n",
    "new_doc_trans = vect.transform(new_doc)\n",
    "\n",
    "# Convert sparse matrix to gensim corpus.\n",
    "new_doc_corpus = gensim.matutils.Sparse2Corpus(new_doc_trans, documents_columns=False)\n",
    "\n",
    "#get the topic distribution \n",
    "topics = ldamodel.get_document_topics(new_doc_corpus, minimum_probability=0.01)\n",
    "list(topics)[0]"
   ]
  }
 ],
 "metadata": {
  "coursera": {
   "course_slug": "python-text-mining",
   "graded_item_id": "2qbcK",
   "launcher_item_id": "pi9Sh",
   "part_id": "kQiwX"
  },
  "kernelspec": {
   "display_name": "Python 3",
   "language": "python",
   "name": "python3"
  },
  "language_info": {
   "codemirror_mode": {
    "name": "ipython",
    "version": 3
   },
   "file_extension": ".py",
   "mimetype": "text/x-python",
   "name": "python",
   "nbconvert_exporter": "python",
   "pygments_lexer": "ipython3",
   "version": "3.7.4"
  }
 },
 "nbformat": 4,
 "nbformat_minor": 2
}
