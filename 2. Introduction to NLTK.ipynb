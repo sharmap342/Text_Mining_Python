{
 "cells": [
  {
   "cell_type": "markdown",
   "metadata": {},
   "source": [
    "# Introduction to NLTK\n",
    "\n",
    "In part 1 nltk is used to explore the Herman Melville novel Moby Dick. Then in part 2 a spelling recommender function that uses nltk to find words similar to the misspelling was developed. "
   ]
  },
  {
   "cell_type": "markdown",
   "metadata": {},
   "source": [
    "## Part 1 - Analyzing Moby Dick"
   ]
  },
  {
   "cell_type": "code",
   "execution_count": 2,
   "metadata": {},
   "outputs": [],
   "source": [
    "#import the required libraries\n",
    "import nltk\n",
    "import pandas as pd\n",
    "import numpy as np\n",
    "\n",
    "# If you would like to work with the raw text you can use 'moby_raw'\n",
    "with open(r'C:\\Users\\sharm.LAPTOP-118C54MT\\OneDrive - York University\\Coursera\\Course_4\\Assignment_2\\moby.txt', 'r') as f:\n",
    "    moby_raw = f.read()\n",
    "    \n",
    "# If you would like to work with the novel in nltk.Text format you can use 'text1'\n",
    "moby_tokens = nltk.word_tokenize(moby_raw)\n",
    "text1 = nltk.Text(moby_tokens)\n",
    "moby_tokens[0:20]"
   ]
  },
  {
   "cell_type": "code",
   "execution_count": 4,
   "metadata": {},
   "outputs": [
    {
     "data": {
      "text/plain": [
       "255018"
      ]
     },
     "execution_count": 4,
     "metadata": {},
     "output_type": "execute_result"
    }
   ],
   "source": [
    "# number of tokens (words and punctuation symbols) are in text1\n",
    "len(nltk.word_tokenize(moby_raw)) # or alternatively len(text1)"
   ]
  },
  {
   "cell_type": "code",
   "execution_count": 5,
   "metadata": {},
   "outputs": [
    {
     "data": {
      "text/plain": [
       "20754"
      ]
     },
     "execution_count": 5,
     "metadata": {},
     "output_type": "execute_result"
    }
   ],
   "source": [
    "#number of unique tokens (unique words and punctuation) in text1\n",
    "    \n",
    "len(set(nltk.word_tokenize(moby_raw))) # or alternatively len(set(text1))"
   ]
  },
  {
   "cell_type": "code",
   "execution_count": 6,
   "metadata": {},
   "outputs": [
    {
     "data": {
      "text/plain": [
       "16899"
      ]
     },
     "execution_count": 6,
     "metadata": {},
     "output_type": "execute_result"
    }
   ],
   "source": [
    "from nltk.stem import WordNetLemmatizer #to lemmatizing the verbs\n",
    "\n",
    "lemmatizer = WordNetLemmatizer() #the lemmatizer object \n",
    "lemmatized = [lemmatizer.lemmatize(w,'v') for w in text1]\n",
    "len(set(lemmatized)) #unique tokens after lemmatizing "
   ]
  },
  {
   "cell_type": "code",
   "execution_count": 7,
   "metadata": {},
   "outputs": [
    {
     "data": {
      "text/plain": [
       "0.08138249064771899"
      ]
     },
     "execution_count": 7,
     "metadata": {},
     "output_type": "execute_result"
    }
   ],
   "source": [
    "#lexical diversity of the text input\n",
    "len(set(nltk.word_tokenize(moby_raw)))/len(nltk.word_tokenize(moby_raw))"
   ]
  },
  {
   "cell_type": "code",
   "execution_count": 8,
   "metadata": {},
   "outputs": [
    {
     "data": {
      "text/plain": [
       "0.00306645021135763"
      ]
     },
     "execution_count": 8,
     "metadata": {},
     "output_type": "execute_result"
    }
   ],
   "source": [
    "# percentage of tokens whale or Whale \n",
    "len([w for w in moby_tokens if w == 'whale'.lower()])/len(nltk.word_tokenize(moby_raw))"
   ]
  },
  {
   "cell_type": "code",
   "execution_count": 9,
   "metadata": {},
   "outputs": [
    {
     "data": {
      "text/plain": [
       "[(',', 19204),\n",
       " ('the', 13715),\n",
       " ('.', 7308),\n",
       " ('of', 6513),\n",
       " ('and', 6010),\n",
       " ('a', 4545),\n",
       " ('to', 4515),\n",
       " (';', 4173),\n",
       " ('in', 3908),\n",
       " ('that', 2978),\n",
       " ('his', 2459),\n",
       " ('it', 2196),\n",
       " ('I', 2111),\n",
       " ('!', 1767),\n",
       " ('is', 1722),\n",
       " ('--', 1713),\n",
       " ('with', 1659),\n",
       " ('he', 1658),\n",
       " ('was', 1639),\n",
       " ('as', 1620)]"
      ]
     },
     "execution_count": 9,
     "metadata": {},
     "output_type": "execute_result"
    }
   ],
   "source": [
    "#20 most common occurring tokens in the text and their frequncy\n",
    "dist = nltk.FreqDist(moby_tokens)\n",
    "dist.most_common(20)"
   ]
  },
  {
   "cell_type": "code",
   "execution_count": 10,
   "metadata": {},
   "outputs": [
    {
     "data": {
      "text/plain": [
       "['Captain',\n",
       " 'Pequod',\n",
       " 'Queequeg',\n",
       " 'Starbuck',\n",
       " 'almost',\n",
       " 'before',\n",
       " 'himself',\n",
       " 'little',\n",
       " 'seemed',\n",
       " 'should',\n",
       " 'though',\n",
       " 'through',\n",
       " 'whales',\n",
       " 'without']"
      ]
     },
     "execution_count": 10,
     "metadata": {},
     "output_type": "execute_result"
    }
   ],
   "source": [
    "# tokens with length greater than 5 and frequency of more than 150   \n",
    "dist = nltk.FreqDist(moby_tokens)\n",
    "vocab1 = dist.keys()\n",
    "sorted([w for w in vocab1 if len(w) > 5 and dist[w] > 150])"
   ]
  },
  {
   "cell_type": "code",
   "execution_count": 11,
   "metadata": {},
   "outputs": [
    {
     "data": {
      "text/plain": [
       "[(\"twelve-o'clock-at-night\", 23)]"
      ]
     },
     "execution_count": 11,
     "metadata": {},
     "output_type": "execute_result"
    }
   ],
   "source": [
    "#the longest word in text1 and its length \n",
    "max_len = max([len(w) for w in moby_tokens])\n",
    "max_tup = [(w,len(w)) for w in moby_tokens if len(w) == max_len]\n",
    "max_tup"
   ]
  },
  {
   "cell_type": "code",
   "execution_count": 13,
   "metadata": {},
   "outputs": [
    {
     "name": "stdout",
     "output_type": "stream",
     "text": [
      "twelve-o'clock-at-night 23\n"
     ]
    }
   ],
   "source": [
    "#alternative way\n",
    "import pandas\n",
    "distu = nltk.FreqDist(moby_tokens)\n",
    "moby_frame = pandas.DataFrame(distu.most_common(),\n",
    "                                    columns=[\"token\", \"frequency\"])\n",
    "length = max(moby_frame.token.str.len())\n",
    "longest = moby_frame.token.str.extractall(\"(?P<long>.{{{}}})\".format(length))\n",
    "print(longest.long.iloc[0], length)\n"
   ]
  },
  {
   "cell_type": "code",
   "execution_count": 14,
   "metadata": {},
   "outputs": [
    {
     "data": {
      "text/plain": [
       "[(13715, 'the'),\n",
       " (6513, 'of'),\n",
       " (6010, 'and'),\n",
       " (4545, 'a'),\n",
       " (4515, 'to'),\n",
       " (3908, 'in'),\n",
       " (2978, 'that'),\n",
       " (2459, 'his'),\n",
       " (2196, 'it'),\n",
       " (2111, 'I')]"
      ]
     },
     "execution_count": 14,
     "metadata": {},
     "output_type": "execute_result"
    }
   ],
   "source": [
    "#unique words with frequency more than 2000 and their frequency. \n",
    "distu = nltk.FreqDist(moby_tokens)\n",
    "vocab1 = distu.keys()\n",
    "unq_word = [(distu[w],w) for w in vocab1 if w.isalpha() and distu[w]>2000]\n",
    "sorted(unq_word, key=lambda tup : tup[0], reverse=True)"
   ]
  },
  {
   "cell_type": "code",
   "execution_count": 15,
   "metadata": {},
   "outputs": [
    {
     "data": {
      "text/plain": [
       "25.88489646772229"
      ]
     },
     "execution_count": 15,
     "metadata": {},
     "output_type": "execute_result"
    }
   ],
   "source": [
    "#average number of tokens per sentence\n",
    "sent_tokens = nltk.sent_tokenize(moby_raw)\n",
    "len(moby_tokens)/len(sent_tokens)"
   ]
  },
  {
   "cell_type": "code",
   "execution_count": 16,
   "metadata": {},
   "outputs": [
    {
     "data": {
      "text/plain": [
       "[('NN', 32730), ('IN', 28658), ('DT', 25870), (',', 19204), ('JJ', 17619)]"
      ]
     },
     "execution_count": 16,
     "metadata": {},
     "output_type": "execute_result"
    }
   ],
   "source": [
    "# 5 most freqent parts of sppech in the given text and their frequency\n",
    "word_tagged = nltk.pos_tag(moby_tokens)\n",
    "distw = nltk.FreqDist(tag for (word,tag) in word_tagged)\n",
    "distw.most_common(5)"
   ]
  },
  {
   "cell_type": "markdown",
   "metadata": {},
   "source": [
    "## Part 2 - Spelling Recommender\n",
    "\n",
    "For this part, three different spelling recommenders, that each take a list of misspelled words and recommends a correctly spelled word for every word in the list are developed.\n",
    "\n",
    "For every misspelled word, the recommender should find the word in `correct_spellings` that has the shortest distance*, and starts with the same letter as the misspelled word, and return that word as a recommendation.\n",
    "\n",
    "Each of the three different recommenders will use a different distance measure (outlined below)."
   ]
  },
  {
   "cell_type": "code",
   "execution_count": 17,
   "metadata": {},
   "outputs": [],
   "source": [
    "#*Each of the three different recommenders will use a different distance measure (outlined below).\n",
    "from nltk.corpus import words\n",
    "\n",
    "correct_spellings = words.words()"
   ]
  },
  {
   "cell_type": "code",
   "execution_count": 18,
   "metadata": {},
   "outputs": [
    {
     "data": {
      "text/plain": [
       "[('corpulent', 0.6),\n",
       " ('indecence', 0.6666666666666666),\n",
       " ('validate', 0.5555555555555556)]"
      ]
     },
     "execution_count": 18,
     "metadata": {},
     "output_type": "execute_result"
    }
   ],
   "source": [
    "#using jaccard distance on the trigrams of the two words for the \n",
    "#misspelled words ['cormulent', 'incendenece', 'validrate']\n",
    "entries=['cormulent', 'incendenece', 'validrate']\n",
    "temp_list = []\n",
    "final_list = []\n",
    "for mistake in entries:\n",
    "    for word in correct_spellings:\n",
    "        if word[0] == mistake[0]:\n",
    "            jd = nltk.jaccard_distance(set(nltk.ngrams(mistake,3)),set(nltk.ngrams(word,3)))\n",
    "            temp_list.append((word,jd))\n",
    "    final_list.append((sorted(temp_list, key=lambda tup : tup[1]))[0])\n",
    "    temp_list.clear()\n",
    "final_list\n",
    "     "
   ]
  },
  {
   "cell_type": "code",
   "execution_count": 19,
   "metadata": {},
   "outputs": [
    {
     "data": {
      "text/plain": [
       "['cormus', 'incendiary', 'valid']"
      ]
     },
     "execution_count": 19,
     "metadata": {},
     "output_type": "execute_result"
    }
   ],
   "source": [
    "# Jaccard distnace on the 4-grams of the two words. \n",
    "temp_list = []\n",
    "final_list = []\n",
    "for mistake in entries:\n",
    "    for word in correct_spellings:\n",
    "        if word[0] == mistake[0]:\n",
    "            jd = nltk.jaccard_distance(set(nltk.ngrams(mistake,4)),set(nltk.ngrams(word,4)))\n",
    "            temp_list.append((word,jd))\n",
    "    final_list.append((sorted(temp_list, key=lambda tup : tup[1]))[0])\n",
    "    temp_list.clear()\n",
    "[w[0] for w in final_list]\n"
   ]
  },
  {
   "cell_type": "code",
   "execution_count": 20,
   "metadata": {},
   "outputs": [
    {
     "data": {
      "text/plain": [
       "['corpulent', 'intendence', 'validate']"
      ]
     },
     "execution_count": 20,
     "metadata": {},
     "output_type": "execute_result"
    }
   ],
   "source": [
    "# Edit distance on the two words with transpositions    \n",
    "temp_list = []\n",
    "final_list = []\n",
    "for mistake in entries:\n",
    "    for word in correct_spellings:\n",
    "        if word[0] == mistake[0]:\n",
    "            jd = nltk.edit_distance(mistake,word, transpositions=True)\n",
    "            temp_list.append((word,jd))\n",
    "    final_list.append((sorted(temp_list, key=lambda tup : tup[1]))[0])\n",
    "    temp_list.clear()\n",
    "    \n",
    "    \n",
    "[w[0] for w in final_list] \n"
   ]
  },
  {
   "cell_type": "code",
   "execution_count": null,
   "metadata": {},
   "outputs": [],
   "source": []
  }
 ],
 "metadata": {
  "coursera": {
   "course_slug": "python-text-mining",
   "graded_item_id": "r35En",
   "launcher_item_id": "tCVfW",
   "part_id": "NTVgL"
  },
  "kernelspec": {
   "display_name": "Python 3",
   "language": "python",
   "name": "python3"
  },
  "language_info": {
   "codemirror_mode": {
    "name": "ipython",
    "version": 3
   },
   "file_extension": ".py",
   "mimetype": "text/x-python",
   "name": "python",
   "nbconvert_exporter": "python",
   "pygments_lexer": "ipython3",
   "version": "3.7.4"
  }
 },
 "nbformat": 4,
 "nbformat_minor": 2
}
